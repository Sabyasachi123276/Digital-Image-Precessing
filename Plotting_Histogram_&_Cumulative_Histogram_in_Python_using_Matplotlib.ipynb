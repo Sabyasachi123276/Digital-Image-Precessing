{
  "nbformat": 4,
  "nbformat_minor": 0,
  "metadata": {
    "colab": {
      "provenance": []
    },
    "kernelspec": {
      "name": "python3",
      "display_name": "Python 3"
    },
    "language_info": {
      "name": "python"
    }
  },
  "cells": [
    {
      "cell_type": "markdown",
      "source": [
        "A histogram is basically used to represent data provided in a form of some groups.It is accurate method for the graphical representation of numerical data distribution.It is a type of bar plot where X-axis represents the bin ranges while Y-axis gives information about frequency.Each bin is plotted as a bar whose height corresponds to how many data points are in that bin. Bins are also sometimes called \"intervals\", \"classes\", or \"buckets\"."
      ],
      "metadata": {
        "id": "MdQBFUB8FMhs"
      }
    },
    {
      "cell_type": "markdown",
      "source": [
        "**Creating a Histogram**:\n",
        "To create a histogram the first step is to create bin of the ranges, then distribute the whole range of the values into a series of intervals, and count the values which fall into each of the intervals.Bins are clearly identified as consecutive, non-overlapping intervals of variables.The matplotlib.pyplot.hist() function is used to compute and create histogram of x. "
      ],
      "metadata": {
        "id": "TcLElXLwGoRJ"
      }
    },
    {
      "cell_type": "code",
      "execution_count": 1,
      "metadata": {
        "colab": {
          "base_uri": "https://localhost:8080/",
          "height": 428
        },
        "id": "8LGrKl-TFKbb",
        "outputId": "bf1472bf-898f-44ca-9a42-e0475cf13fd0"
      },
      "outputs": [
        {
          "output_type": "display_data",
          "data": {
            "text/plain": [
              "<Figure size 720x504 with 1 Axes>"
            ],
            "image/png": "[encoded data removed]"
          },
          "metadata": {
            "needs_background": "light"
          }
        }
      ],
      "source": [
        "from matplotlib import pyplot as plt\n",
        "import numpy as np\n",
        "\n",
        "\n",
        "# Creating dataset\n",
        "a = np.array([22, 87, 5, 43, 56,\n",
        "\t\t\t73, 55, 54, 11,\n",
        "\t\t\t20, 51, 5, 79, 31,\n",
        "\t\t\t27])\n",
        "\n",
        "# Creating histogram\n",
        "fig, ax = plt.subplots(figsize =(10, 7))\n",
        "ax.hist(a, bins = [0, 25, 50, 75, 100])\n",
        "\n",
        "# Show plot\n",
        "plt.show()\n"
      ]
    },
    {
      "cell_type": "markdown",
      "source": [
        "**Customization of Histogram:**\n",
        "Matplotlib provides a range of different methods to customize histogram. \n",
        "matplotlib.pyplot.hist() function itself provides many attributes with the help of which we can modify a histogram.The hist() function provide a patches object which gives access to the properties of the created objects, using this we can modify the plot according to our will."
      ],
      "metadata": {
        "id": "FCMOhTQLHtWl"
      }
    },
    {
      "cell_type": "code",
      "source": [
        "import matplotlib.pyplot as plt\n",
        "import numpy as np\n",
        "from matplotlib import colors\n",
        "from matplotlib.ticker import PercentFormatter\n",
        "\n",
        "# Creating dataset\n",
        "np.random.seed(23685752)\n",
        "N_points = 10000\n",
        "n_bins = 20\n",
        "\n",
        "# Creating distribution\n",
        "x = np.random.randn(N_points)\n",
        "y = .8 ** x + np.random.randn(10000) + 25\n",
        "\n",
        "# Creating histogram\n",
        "fig, axs = plt.subplots(1, 1,\n",
        "\t\t\t\t\t\tfigsize =(10, 7),\n",
        "\t\t\t\t\t\ttight_layout = True)\n",
        "\n",
        "axs.hist(x, bins = n_bins)\n",
        "\n",
        "# Show plot\n",
        "plt.show()\n"
      ],
      "metadata": {
        "colab": {
          "base_uri": "https://localhost:8080/",
          "height": 513
        },
        "id": "bSULVEvfI7VH",
        "outputId": "c7b6033c-5b2d-40b0-badc-c37d6c027f67"
      },
      "execution_count": 2,
      "outputs": [
        {
          "output_type": "display_data",
          "data": {
            "text/plain": [
              "<Figure size 720x504 with 1 Axes>"
            ],
            "image/png": "[encoded data removed]"
          },
          "metadata": {
            "needs_background": "light"
          }
        }
      ]
    },
    {
      "cell_type": "markdown",
      "source": [
        "**Cumulative frequency:** Cumulative frequency analysis is the analysis of the frequency of occurrence of values. It is the total of a frequency and all frequencies so far in a frequency distribution. \n",
        "\n",
        "**Example:** X contains [1,2,3,4,5] then the cumulative frequency for x is [1,3,6,10,15].\n",
        "\n",
        "In Python, we can generate a histogram with dataframe.hist, and cumulative frequency stats.cumfreq() histogram."
      ],
      "metadata": {
        "id": "Z_8j5QAaKRG3"
      }
    },
    {
      "cell_type": "code",
      "source": [
        "# importing pyplot for getting graph\n",
        "import matplotlib.pyplot as plt\n",
        "\n",
        "# importing numpy for getting array\n",
        "import numpy as np\n",
        "\n",
        "# importing scientific python\n",
        "from scipy import stats\n",
        "\n",
        "# generating random values\n",
        "rng = np.random.RandomState(seed=12345)\n",
        "\n",
        "# normalizing\n",
        "samples = stats.norm.rvs(size=1000,\n",
        "\t\t\t\t\t\trandom_state=rng)\n",
        "\n",
        "res = stats.cumfreq(samples,\n",
        "\t\t\t\t\tnumbins=25)\n",
        "\n",
        "x = res.lowerlimit + np.linspace(0, res.binsize*res.cumcount.size,\n",
        "\t\t\t\t\t\t\t\tres.cumcount.size)\n",
        "\n",
        "# specifying figure size\n",
        "fig = plt.figure(figsize=(10, 4))\n",
        "\n",
        "# adding sub plots\n",
        "ax1 = fig.add_subplot(1, 2, 1)\n",
        "\n",
        "# adding sub plots\n",
        "ax2 = fig.add_subplot(1, 2, 2)\n",
        "\n",
        "# getting histogram using hist function\n",
        "ax1.hist(samples, bins=25,\n",
        "\t\tcolor=\"green\")\n",
        "\n",
        "# setting up the title\n",
        "ax1.set_title('Histogram')\n",
        "\n",
        "# cumulative graph\n",
        "ax2.bar(x, res.cumcount, width=4, color=\"blue\")\n",
        "\n",
        "# setting up the title\n",
        "ax2.set_title('Cumulative histogram')\n",
        "\n",
        "ax2.set_xlim([x.min(), x.max()])\n",
        "\n",
        "# display the figure(histogram)\n",
        "plt.show()\n"
      ],
      "metadata": {
        "colab": {
          "base_uri": "https://localhost:8080/",
          "height": 281
        },
        "id": "9lE9DbDXNc4Y",
        "outputId": "f694d377-c047-4b53-ae42-c263cec2bfa1"
      },
      "execution_count": 10,
      "outputs": [
        {
          "output_type": "display_data",
          "data": {
            "text/plain": [
              "<Figure size 720x288 with 2 Axes>"
            ],
            "image/png": "[encoded data removed]"
          },
          "metadata": {
            "needs_background": "light"
          }
        }
      ]
    },
    {
      "cell_type": "markdown",
      "source": [
        "**Plotting two histograms together:**"
      ],
      "metadata": {
        "id": "AVtgoXZ_FLH-"
      }
    },
    {
      "cell_type": "code",
      "source": [
        "# importing libraries\n",
        "import matplotlib.pyplot as plt\n",
        "import numpy as np\n",
        "\n",
        "# generating two series of random\n",
        "# values using numpy random module\n",
        "series1 = np.random.randn(500, 1)\n",
        "series2 = np.random.randn(400, 1)\n",
        "\n",
        "# plotting first histogram\n",
        "plt.hist(series1)\n",
        "\n",
        "# plotting second histogram\n",
        "plt.hist(series2)\n",
        "\n",
        "# Showing the plot using plt.show()\n",
        "plt.show()\n"
      ],
      "metadata": {
        "colab": {
          "base_uri": "https://localhost:8080/",
          "height": 265
        },
        "id": "zTpDye1WUUfQ",
        "outputId": "d85b0389-bc9d-401a-ec06-2e204838c82d"
      },
      "execution_count": 12,
      "outputs": [
        {
          "output_type": "display_data",
          "data": {
            "text/plain": [
              "<Figure size 432x288 with 1 Axes>"
            ],
            "image/png": "[encoded data removed]"
          },
          "metadata": {
            "needs_background": "light"
          }
        }
      ]
    },
    {
      "cell_type": "markdown",
      "source": [
        "Here, in the following example, we are using label, edgecolor, and opacity (transparency). \n",
        "\n",
        "With an image or graphic, transparent refers to an image that is clear and can take the effect of any images behind it.\n",
        "\n",
        "Matplotlib allows you to adjust the transparency of a graph plot using the alpha attribute. By default, alpha=1. If you want to make the graph plot more transparent, then you can make alpha less than 1, such as 0.5 or 0.25. If you want to make the graph plot less transparent, then you can make alpha greater than 1."
      ],
      "metadata": {
        "id": "cTD_iVi5VmcD"
      }
    },
    {
      "cell_type": "code",
      "source": [
        "# importing libraries\n",
        "import matplotlib.pyplot as plt\n",
        "import numpy as np\n",
        "from numpy.lib.histograms import histogram\n",
        "\n",
        "# generating two series of random values\n",
        "# using numpy random module of shape (500,1)\n",
        "series1 = np.random.randn(500, 1)\n",
        "series2 = np.random.randn(400, 1)\n",
        "\n",
        "# plotting first histogram\n",
        "plt.hist(series1, label='series1', alpha=.8, edgecolor='red')\n",
        "\n",
        "# plotting second histogram\n",
        "plt.hist(series2, label='series2', alpha=0.7, edgecolor='yellow')\n",
        "plt.legend()\n",
        "\n",
        "# Showing the plot using plt.show()\n",
        "plt.show()\n"
      ],
      "metadata": {
        "colab": {
          "base_uri": "https://localhost:8080/",
          "height": 265
        },
        "id": "LBZFXiA7WPHe",
        "outputId": "c35b6263-c8ab-4268-fae2-33e15689daa1"
      },
      "execution_count": 13,
      "outputs": [
        {
          "output_type": "display_data",
          "data": {
            "text/plain": [
              "<Figure size 432x288 with 1 Axes>"
            ],
            "image/png": "[encoded data removed]"
          },
          "metadata": {
            "needs_background": "light"
          }
        }
      ]
    },
    {
      "cell_type": "markdown",
      "source": [
        "Following histograms represent two age groups using given data."
      ],
      "metadata": {
        "id": "DcP-K_xhWyr3"
      }
    },
    {
      "cell_type": "code",
      "source": [
        "# importing libraries\n",
        "import matplotlib.pyplot as plt\n",
        "\n",
        "# giving two age groups data\n",
        "age_g1 = [1, 3, 5, 10, 15, 17, 18, 16, 19,\n",
        "\t\t21, 23, 28, 30, 31, 33, 38, 32,\n",
        "\t\t40, 45, 43, 49, 55, 53, 63, 66,\n",
        "\t\t85, 80, 57, 75, 93, 95]\n",
        "\n",
        "age_g2 = [6, 4, 15, 17, 19, 21, 28, 23, 31,\n",
        "\t\t36, 39, 32, 50, 56, 59, 74, 79, 34,\n",
        "\t\t98, 97, 95, 67, 69, 92, 45, 55, 77,\n",
        "\t\t76, 85]\n",
        "\n",
        "# plotting first histogram\n",
        "plt.hist(age_g1, label='Age group1', bins=14, alpha=.7, edgecolor='red')\n",
        "\n",
        "# plotting second histogram\n",
        "plt.hist(age_g2, label=\"Age group2\", bins=14, alpha=.7, edgecolor='yellow')\n",
        "plt.legend()\n",
        "\n",
        "# Showing the plot using plt.show()\n",
        "plt.show()\n"
      ],
      "metadata": {
        "colab": {
          "base_uri": "https://localhost:8080/",
          "height": 265
        },
        "id": "KfN6R2bMW3Ut",
        "outputId": "1d608d18-92f6-47ab-d3ee-d628caae0df8"
      },
      "execution_count": 14,
      "outputs": [
        {
          "output_type": "display_data",
          "data": {
            "text/plain": [
              "<Figure size 432x288 with 1 Axes>"
            ],
            "image/png": "[encoded data removed]"
          },
          "metadata": {
            "needs_background": "light"
          }
        }
      ]
    }
  ]
}