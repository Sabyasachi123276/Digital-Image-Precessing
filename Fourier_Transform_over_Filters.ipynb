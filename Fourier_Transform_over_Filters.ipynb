{
  "nbformat": 4,
  "nbformat_minor": 0,
  "metadata": {
    "colab": {
      "provenance": []
    },
    "kernelspec": {
      "name": "python3",
      "display_name": "Python 3"
    },
    "language_info": {
      "name": "python"
    }
  },
  "cells": [
    {
      "cell_type": "code",
      "execution_count": 2,
      "metadata": {
        "colab": {
          "base_uri": "https://localhost:8080/",
          "height": 267
        },
        "id": "_U0iYSYF8tL6",
        "outputId": "c1751648-2258-4c5c-e2cb-539f221a3bdb"
      },
      "outputs": [
        {
          "output_type": "display_data",
          "data": {
            "text/plain": [
              "<Figure size 432x288 with 6 Axes>"
            ],
            "image/png": "[encoded data removed]"
          },
          "metadata": {}
        }
      ],
      "source": [
        "import cv2\n",
        "import numpy as np\n",
        "from matplotlib import pyplot as plt\n",
        "\n",
        "# simple averaging filter without scaling parameter\n",
        "mean_filter = np.ones((3,3))\n",
        "\n",
        "# creating a guassian filter\n",
        "x = cv2.getGaussianKernel(5,10)\n",
        "gaussian = x*x.T\n",
        "\n",
        "# different edge detecting filters\n",
        "# scharr in x-direction\n",
        "scharr = np.array([[-3, 0, 3],\n",
        "                   [-10,0,10],\n",
        "                   [-3, 0, 3]])\n",
        "# sobel in x direction\n",
        "sobel_x= np.array([[-1, 0, 1],\n",
        "                   [-2, 0, 2],\n",
        "                   [-1, 0, 1]])\n",
        "# sobel in y direction\n",
        "sobel_y= np.array([[-1,-2,-1],\n",
        "                   [0, 0, 0],\n",
        "                   [1, 2, 1]])\n",
        "# laplacian\n",
        "laplacian=np.array([[0, 1, 0],\n",
        "                    [1,-4, 1],\n",
        "                    [0, 1, 0]])\n",
        "\n",
        "filters = [mean_filter, gaussian, laplacian, sobel_x, sobel_y, scharr]\n",
        "filter_name = ['mean_filter', 'gaussian','laplacian', 'sobel_x', \\\n",
        "                'sobel_y', 'scharr_x']\n",
        "fft_filters = [np.fft.fft2(x) for x in filters]\n",
        "fft_shift = [np.fft.fftshift(y) for y in fft_filters]\n",
        "mag_spectrum = [np.log(np.abs(z)+1) for z in fft_shift]\n",
        "\n",
        "for i in range(6):\n",
        "    plt.subplot(2,3,i+1),plt.imshow(mag_spectrum[i],cmap = 'gray')\n",
        "    plt.title(filter_name[i]), plt.xticks([]), plt.yticks([])\n",
        "\n",
        "plt.show()"
      ]
    },
    {
      "cell_type": "markdown",
      "source": [
        "From image, you can see what frequency region each kernel blocks, and what region it passes. From that information, we can say why each kernel is a HPF or a LPF. "
      ],
      "metadata": {
        "id": "e6aFyE_j9NcH"
      }
    }
  ]
}